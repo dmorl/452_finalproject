{
 "cells": [
  {
   "cell_type": "code",
   "execution_count": 28,
   "metadata": {},
   "outputs": [
    {
     "name": "stderr",
     "output_type": "stream",
     "text": [
      "C:\\Users\\daria\\Anaconda3\\lib\\site-packages\\ipykernel_launcher.py:28: SettingWithCopyWarning: \n",
      "A value is trying to be set on a copy of a slice from a DataFrame.\n",
      "Try using .loc[row_indexer,col_indexer] = value instead\n",
      "\n",
      "See the caveats in the documentation: http://pandas.pydata.org/pandas-docs/stable/indexing.html#indexing-view-versus-copy\n",
      "C:\\Users\\daria\\Anaconda3\\lib\\site-packages\\ipykernel_launcher.py:30: SettingWithCopyWarning: \n",
      "A value is trying to be set on a copy of a slice from a DataFrame.\n",
      "Try using .loc[row_indexer,col_indexer] = value instead\n",
      "\n",
      "See the caveats in the documentation: http://pandas.pydata.org/pandas-docs/stable/indexing.html#indexing-view-versus-copy\n",
      "C:\\Users\\daria\\Anaconda3\\lib\\site-packages\\ipykernel_launcher.py:31: SettingWithCopyWarning: \n",
      "A value is trying to be set on a copy of a slice from a DataFrame.\n",
      "Try using .loc[row_indexer,col_indexer] = value instead\n",
      "\n",
      "See the caveats in the documentation: http://pandas.pydata.org/pandas-docs/stable/indexing.html#indexing-view-versus-copy\n"
     ]
    },
    {
     "name": "stdout",
     "output_type": "stream",
     "text": [
      "{(107, '2015-07-24', '16:38:31', 4): ['ResponseClean'], (107, '2015-07-24', '16:38:31', 10): ['ResponseClean'], (107, '2015-07-24', '16:38:31', 20): ['ResponseClean'], (107, '2015-07-24', '16:38:31', 50): ['ResponseClean'], (107, '2015-07-24', '16:38:31', 60): ['ResponseClean'], (107, '2015-07-24', '16:38:31', 1080): ['ResponseClean'], (107, '2015-07-24', '16:38:31', 1110): ['ResponseClean'], (107, '2015-07-24', '16:38:31', 1120): ['ResponseClean'], (107, '2015-07-24', '16:38:31', 1140): ['ResponseClean'], (107, '2015-07-24', '16:38:31', 1150): ['ResponseClean'], (107, '2015-07-24', '16:38:31', 1160): ['ResponseClean'], (107, '2015-07-24', '16:38:31', 1170): ['ResponseClean'], (107, '2015-07-24', '16:38:31', 1180): ['ResponseClean'], (107, '2015-07-24', '16:38:31', 1210): ['ResponseClean'], (107, '2015-07-24', '16:38:31', 1220): ['ResponseClean'], (107, '2015-07-24', '16:38:31', 1230): ['ResponseClean'], (107, '2015-07-24', '16:38:31', 1310): ['ResponseClean'], (107, '2015-07-24', '16:38:31', 1410): ['ResponseClean'], (107, '2015-07-24', '16:38:31', 1420): ['ResponseClean'], (107, '2015-07-24', '16:38:31', 1430): ['ResponseClean'], (107, '2015-07-24', '16:38:31', 1510): ['ResponseClean'], (107, '2015-07-24', '16:38:31', 1520): ['ResponseClean'], (107, '2015-07-24', '16:38:31', 1600): ['ResponseClean'], (107, '2015-07-24', '20:14:17', 4): ['ResponseClean'], (107, '2015-07-24', '20:14:17', 10): ['ResponseClean'], (107, '2015-07-24', '20:14:17', 20): ['ResponseClean'], (107, '2015-07-24', '20:14:17', 50): ['ResponseClean'], (107, '2015-07-24', '20:14:17', 60): ['ResponseClean'], (107, '2015-07-24', '20:14:17', 1080): ['ResponseClean'], (107, '2015-07-24', '20:14:17', 1110): ['ResponseClean'], (107, '2015-07-24', '20:14:17', 1120): ['ResponseClean'], (107, '2015-07-24', '20:14:17', 1140): ['ResponseClean'], (107, '2015-07-24', '20:14:17', 1150): ['ResponseClean'], (107, '2015-07-24', '20:14:17', 1160): ['ResponseClean'], (107, '2015-07-24', '20:14:17', 1170): ['ResponseClean'], (107, '2015-07-24', '20:14:17', 1180): ['ResponseClean'], (107, '2015-07-24', '20:14:17', 1210): ['ResponseClean'], (107, '2015-07-24', '20:14:17', 1220): ['ResponseClean'], (107, '2015-07-24', '20:14:17', 1230): ['ResponseClean'], (107, '2015-07-24', '20:14:17', 1310): ['ResponseClean'], (107, '2015-07-24', '20:14:17', 1410): ['ResponseClean'], (107, '2015-07-24', '20:14:17', 1420): ['ResponseClean'], (107, '2015-07-24', '20:14:17', 1430): ['ResponseClean'], (107, '2015-07-24', '20:14:17', 1510): ['ResponseClean'], (107, '2015-07-24', '20:14:17', 1520): ['ResponseClean'], (107, '2015-07-24', '20:14:17', 1600): ['ResponseClean'], (107, '2015-07-25', '08:59:48', 4): ['ResponseClean'], (107, '2015-07-25', '08:59:48', 6): ['ResponseClean'], (107, '2015-07-25', '08:59:48', 8): ['ResponseClean'], (107, '2015-07-25', '08:59:48', 10): ['ResponseClean'], (107, '2015-07-25', '08:59:48', 20): ['ResponseClean'], (107, '2015-07-25', '08:59:48', 50): ['ResponseClean'], (107, '2015-07-25', '08:59:48', 60): ['ResponseClean'], (107, '2015-07-25', '08:59:48', 80): ['ResponseClean'], (107, '2015-07-25', '08:59:48', 110): ['ResponseClean'], (107, '2015-07-25', '08:59:48', 120): ['ResponseClean'], (107, '2015-07-25', '08:59:48', 140): ['ResponseClean'], (107, '2015-07-25', '08:59:48', 1210): ['ResponseClean'], (107, '2015-07-25', '08:59:48', 1220): ['ResponseClean'], (107, '2015-07-25', '08:59:48', 1230): ['ResponseClean'], (107, '2015-07-25', '08:59:48', 1310): ['ResponseClean'], (107, '2015-07-25', '08:59:48', 1410): ['ResponseClean'], (107, '2015-07-25', '08:59:48', 1420): ['ResponseClean'], (107, '2015-07-25', '08:59:48', 1430): ['ResponseClean'], (107, '2015-07-25', '08:59:48', 1510): ['ResponseClean'], (107, '2015-07-25', '08:59:48', 1520): ['ResponseClean'], (107, '2015-07-25', '08:59:48', 1600): ['ResponseClean'], (107, '2015-07-25', '12:44:06', 4): ['ResponseClean'], (107, '2015-07-25', '12:44:06', 10): ['ResponseClean'], (107, '2015-07-25', '12:44:06', 20): ['ResponseClean'], (107, '2015-07-25', '12:44:06', 50): ['ResponseClean'], (107, '2015-07-25', '12:44:06', 60): ['ResponseClean'], (107, '2015-07-25', '12:44:06', 1080): ['ResponseClean'], (107, '2015-07-25', '12:44:06', 1110): ['ResponseClean'], (107, '2015-07-25', '12:44:06', 1120): ['ResponseClean'], (107, '2015-07-25', '12:44:06', 1140): ['ResponseClean'], (107, '2015-07-25', '12:44:06', 1150): ['ResponseClean'], (107, '2015-07-25', '12:44:06', 1160): ['ResponseClean'], (107, '2015-07-25', '12:44:06', 1170): ['ResponseClean'], (107, '2015-07-25', '12:44:06', 1180): ['ResponseClean'], (107, '2015-07-25', '12:44:06', 1210): ['ResponseClean'], (107, '2015-07-25', '12:44:06', 1220): ['ResponseClean'], (107, '2015-07-25', '12:44:06', 1230): ['ResponseClean'], (107, '2015-07-25', '12:44:06', 1310): ['ResponseClean'], (107, '2015-07-25', '12:44:06', 1410): ['ResponseClean'], (107, '2015-07-25', '12:44:06', 1420): ['ResponseClean'], (107, '2015-07-25', '12:44:06', 1430): ['ResponseClean'], (107, '2015-07-25', '12:44:06', 1510): ['ResponseClean'], (107, '2015-07-25', '12:44:06', 1520): ['ResponseClean'], (107, '2015-07-25', '12:44:06', 1600): ['ResponseClean'], (107, '2015-07-25', '16:29:16', 4): ['ResponseClean'], (107, '2015-07-25', '16:29:16', 6): ['ResponseClean'], (107, '2015-07-25', '16:29:16', 8): ['ResponseClean'], (107, '2015-07-25', '16:29:16', 10): ['ResponseClean'], (107, '2015-07-25', '16:29:16', 20): ['ResponseClean'], (107, '2015-07-25', '16:29:16', 50): ['ResponseClean'], (107, '2015-07-25', '16:29:16', 60): ['ResponseClean'], (107, '2015-07-25', '16:29:16', 1080): ['ResponseClean'], (107, '2015-07-25', '16:29:16', 1110): ['ResponseClean'], (107, '2015-07-25', '16:29:16', 1120): ['ResponseClean'], (107, '2015-07-25', '16:29:16', 1140): ['ResponseClean'], (107, '2015-07-25', '16:29:16', 1150): ['ResponseClean'], (107, '2015-07-25', '16:29:16', 1160): ['ResponseClean'], (107, '2015-07-25', '16:29:16', 1170): ['ResponseClean'], (107, '2015-07-25', '16:29:16', 1180): ['ResponseClean'], (107, '2015-07-25', '16:29:16', 1210): ['ResponseClean'], (107, '2015-07-25', '16:29:16', 1220): ['ResponseClean'], (107, '2015-07-25', '16:29:16', 1230): ['ResponseClean'], (107, '2015-07-25', '16:29:16', 1310): ['ResponseClean'], (107, '2015-07-25', '16:29:16', 1410): ['ResponseClean'], (107, '2015-07-25', '16:29:16', 1420): ['ResponseClean'], (107, '2015-07-25', '16:29:16', 1430): ['ResponseClean'], (107, '2015-07-25', '16:29:16', 1510): ['ResponseClean'], (107, '2015-07-25', '16:29:16', 1520): ['ResponseClean'], (107, '2015-07-25', '16:29:16', 1600): ['ResponseClean'], (107, '2015-07-25', '20:14:56', 4): ['ResponseClean'], (107, '2015-07-25', '20:14:56', 10): ['ResponseClean'], (107, '2015-07-25', '20:14:56', 20): ['ResponseClean'], (107, '2015-07-25', '20:14:56', 50): ['ResponseClean'], (107, '2015-07-25', '20:14:56', 60): ['ResponseClean'], (107, '2015-07-25', '20:14:56', 1080): ['ResponseClean'], (107, '2015-07-25', '20:14:56', 1110): ['ResponseClean'], (107, '2015-07-25', '20:14:56', 1120): ['ResponseClean'], (107, '2015-07-25', '20:14:56', 1140): ['ResponseClean'], (107, '2015-07-25', '20:14:56', 1150): ['ResponseClean'], (107, '2015-07-25', '20:14:56', 1160): ['ResponseClean'], (107, '2015-07-25', '20:14:56', 1170): ['ResponseClean'], (107, '2015-07-25', '20:14:56', 1180): ['ResponseClean'], (107, '2015-07-25', '20:14:56', 1210): ['ResponseClean'], (107, '2015-07-25', '20:14:56', 1220): ['ResponseClean'], (107, '2015-07-25', '20:14:56', 1230): ['ResponseClean'], (107, '2015-07-25', '20:14:56', 1310): ['ResponseClean'], (107, '2015-07-25', '20:14:56', 1410): ['ResponseClean'], (107, '2015-07-25', '20:14:56', 1420): ['ResponseClean'], (107, '2015-07-25', '20:14:56', 1430): ['ResponseClean'], (107, '2015-07-25', '20:14:56', 1510): ['ResponseClean'], (107, '2015-07-25', '20:14:56', 1520): ['ResponseClean'], (107, '2015-07-25', '20:14:56', 1600): ['ResponseClean'], (107, '2015-07-26', '08:59:07', 4): ['ResponseClean'], (107, '2015-07-26', '08:59:07', 6): ['ResponseClean'], (107, '2015-07-26', '08:59:07', 8): ['ResponseClean'], (107, '2015-07-26', '08:59:07', 10): ['ResponseClean'], (107, '2015-07-26', '08:59:07', 20): ['ResponseClean'], (107, '2015-07-26', '08:59:07', 50): ['ResponseClean'], (107, '2015-07-26', '08:59:07', 60): ['ResponseClean'], (107, '2015-07-26', '08:59:07', 1080): ['ResponseClean'], (107, '2015-07-26', '08:59:07', 1110): ['ResponseClean'], (107, '2015-07-26', '08:59:07', 1120): ['ResponseClean'], (107, '2015-07-26', '08:59:07', 1140): ['ResponseClean'], (107, '2015-07-26', '08:59:07', 1150): ['ResponseClean'], (107, '2015-07-26', '08:59:07', 1160): ['ResponseClean'], (107, '2015-07-26', '08:59:07', 1170): ['ResponseClean'], (107, '2015-07-26', '08:59:07', 1180): ['ResponseClean'], (107, '2015-07-26', '08:59:07', 1210): ['ResponseClean'], (107, '2015-07-26', '08:59:07', 1220): ['ResponseClean'], (107, '2015-07-26', '08:59:07', 1230): ['ResponseClean'], (107, '2015-07-26', '08:59:07', 1310): ['ResponseClean'], (107, '2015-07-26', '08:59:07', 1410): ['ResponseClean'], (107, '2015-07-26', '08:59:07', 1420): ['ResponseClean'], (107, '2015-07-26', '08:59:07', 1430): ['ResponseClean'], (107, '2015-07-26', '08:59:07', 1510): ['ResponseClean'], (107, '2015-07-26', '08:59:07', 1520): ['ResponseClean'], (107, '2015-07-26', '08:59:07', 1600): ['ResponseClean'], (107, '2015-07-26', '12:44:08', 4): ['ResponseClean'], (107, '2015-07-26', '12:44:08', 10): ['ResponseClean'], (107, '2015-07-26', '12:44:08', 20): ['ResponseClean'], (107, '2015-07-26', '12:44:08', 50): ['ResponseClean'], (107, '2015-07-26', '12:44:08', 60): ['ResponseClean'], (107, '2015-07-26', '12:44:08', 1080): ['ResponseClean'], (107, '2015-07-26', '12:44:08', 1110): ['ResponseClean'], (107, '2015-07-26', '12:44:08', 1120): ['ResponseClean'], (107, '2015-07-26', '12:44:08', 1140): ['ResponseClean'], (107, '2015-07-26', '12:44:08', 1150): ['ResponseClean'], (107, '2015-07-26', '12:44:08', 1160): ['ResponseClean'], (107, '2015-07-26', '12:44:08', 1170): ['ResponseClean'], (107, '2015-07-26', '12:44:08', 1180): ['ResponseClean'], (107, '2015-07-26', '12:44:08', 1210): ['ResponseClean'], (107, '2015-07-26', '12:44:08', 1220): ['ResponseClean'], (107, '2015-07-26', '12:44:08', 1230): ['ResponseClean'], (107, '2015-07-26', '12:44:08', 1310): ['ResponseClean'], (107, '2015-07-26', '12:44:08', 1410): ['ResponseClean'], (107, '2015-07-26', '12:44:08', 1420): ['ResponseClean'], (107, '2015-07-26', '12:44:08', 1430): ['ResponseClean'], (107, '2015-07-26', '12:44:08', 1510): ['ResponseClean'], (107, '2015-07-26', '12:44:08', 1520): ['ResponseClean'], (107, '2015-07-26', '12:44:08', 1600): ['ResponseClean'], (107, '2015-07-26', '16:34:47', 4): ['ResponseClean'], (107, '2015-07-26', '16:34:47', 10): ['ResponseClean'], (107, '2015-07-26', '16:34:47', 20): ['ResponseClean'], (107, '2015-07-26', '16:34:47', 50): ['ResponseClean'], (107, '2015-07-26', '16:34:47', 60): ['ResponseClean'], (107, '2015-07-26', '16:34:47', 1080): ['ResponseClean'], (107, '2015-07-26', '16:34:47', 1110): ['ResponseClean'], (107, '2015-07-26', '16:34:47', 1120): ['ResponseClean'], (107, '2015-07-26', '16:34:47', 1140): ['ResponseClean'], (107, '2015-07-26', '16:34:47', 1150): ['ResponseClean'], (107, '2015-07-26', '16:34:47', 1160): ['ResponseClean'], (107, '2015-07-26', '16:34:47', 1170): ['ResponseClean'], (107, '2015-07-26', '16:34:47', 1180): ['ResponseClean'], (107, '2015-07-26', '16:34:47', 1210): ['ResponseClean'], (107, '2015-07-26', '16:34:47', 1220): ['ResponseClean'], (107, '2015-07-26', '16:34:47', 1230): ['ResponseClean'], (107, '2015-07-26', '16:34:47', 1310): ['ResponseClean'], (107, '2015-07-26', '16:34:47', 1410): ['ResponseClean'], (107, '2015-07-26', '16:34:47', 1420): ['ResponseClean'], (107, '2015-07-26', '16:34:47', 1430): ['ResponseClean'], (107, '2015-07-26', '16:34:47', 1510): ['ResponseClean'], (107, '2015-07-26', '16:34:47', 1520): ['ResponseClean'], (107, '2015-07-26', '16:34:47', 1600): ['ResponseClean'], (107, '2015-07-26', '20:23:08', 4): ['ResponseClean'], (107, '2015-07-26', '20:23:08', 10): ['ResponseClean'], (107, '2015-07-26', '20:23:08', 20): ['ResponseClean'], (107, '2015-07-26', '20:23:08', 50): ['ResponseClean'], (107, '2015-07-26', '20:23:08', 60): ['ResponseClean'], (107, '2015-07-26', '20:23:08', 1080): ['ResponseClean'], (107, '2015-07-26', '20:23:08', 1110): ['ResponseClean'], (107, '2015-07-26', '20:23:08', 1120): ['ResponseClean'], (107, '2015-07-26', '20:23:08', 1140): ['ResponseClean'], (107, '2015-07-26', '20:23:08', 1150): ['ResponseClean'], (107, '2015-07-26', '20:23:08', 1160): ['ResponseClean'], (107, '2015-07-26', '20:23:08', 1170): ['ResponseClean'], (107, '2015-07-26', '20:23:08', 1180): ['ResponseClean'], (107, '2015-07-26', '20:23:08', 1210): ['ResponseClean'], (107, '2015-07-26', '20:23:08', 1220): ['ResponseClean'], (107, '2015-07-26', '20:23:08', 1230): ['ResponseClean'], (107, '2015-07-26', '20:23:08', 1310): ['ResponseClean'], (107, '2015-07-26', '20:23:08', 1410): ['ResponseClean'], (107, '2015-07-26', '20:23:08', 1420): ['ResponseClean'], (107, '2015-07-26', '20:23:08', 1430): ['ResponseClean'], (107, '2015-07-26', '20:23:08', 1510): ['ResponseClean'], (107, '2015-07-26', '20:23:08', 1520): ['ResponseClean'], (107, '2015-07-26', '20:23:08', 1600): ['ResponseClean'], (107, '2015-07-27', '08:59:03', 4): ['ResponseClean'], (107, '2015-07-27', '08:59:03', 6): ['ResponseClean'], (107, '2015-07-27', '08:59:03', 8): ['ResponseClean'], (107, '2015-07-27', '08:59:03', 10): ['ResponseClean'], (107, '2015-07-27', '08:59:03', 20): ['ResponseClean'], (107, '2015-07-27', '08:59:03', 50): ['ResponseClean'], (107, '2015-07-27', '08:59:03', 60): ['ResponseClean'], (107, '2015-07-27', '08:59:03', 80): ['ResponseClean'], (107, '2015-07-27', '08:59:03', 110): ['ResponseClean'], (107, '2015-07-27', '08:59:03', 120): ['ResponseClean'], (107, '2015-07-27', '08:59:03', 140): ['ResponseClean'], (107, '2015-07-27', '08:59:03', 1210): ['ResponseClean'], (107, '2015-07-27', '08:59:03', 1220): ['ResponseClean'], (107, '2015-07-27', '08:59:03', 1230): ['ResponseClean'], (107, '2015-07-27', '08:59:03', 1310): ['ResponseClean'], (107, '2015-07-27', '08:59:03', 1410): ['ResponseClean'], (107, '2015-07-27', '08:59:03', 1420): ['ResponseClean'], (107, '2015-07-27', '08:59:03', 1430): ['ResponseClean'], (107, '2015-07-27', '08:59:03', 1510): ['ResponseClean'], (107, '2015-07-27', '08:59:03', 1520): ['ResponseClean'], (107, '2015-07-27', '08:59:03', 1600): ['ResponseClean'], (107, '2015-07-27', '12:44:03', 4): ['ResponseClean'], (107, '2015-07-27', '12:44:03', 10): ['ResponseClean'], (107, '2015-07-27', '12:44:03', 20): ['ResponseClean'], (107, '2015-07-27', '12:44:03', 50): ['ResponseClean'], (107, '2015-07-27', '12:44:03', 60): ['ResponseClean'], (107, '2015-07-27', '12:44:03', 80): ['ResponseClean'], (107, '2015-07-27', '12:44:03', 110): ['ResponseClean'], (107, '2015-07-27', '12:44:03', 120): ['ResponseClean'], (107, '2015-07-27', '12:44:03', 140): ['ResponseClean'], (107, '2015-07-27', '12:44:03', 1210): ['ResponseClean'], (107, '2015-07-27', '12:44:03', 1220): ['ResponseClean'], (107, '2015-07-27', '12:44:03', 1230): ['ResponseClean'], (107, '2015-07-27', '12:44:03', 1310): ['ResponseClean'], (107, '2015-07-27', '12:44:03', 1410): ['ResponseClean'], (107, '2015-07-27', '12:44:03', 1420): ['ResponseClean'], (107, '2015-07-27', '12:44:03', 1430): ['ResponseClean'], (107, '2015-07-27', '12:44:03', 1510): ['ResponseClean'], (107, '2015-07-27', '12:44:03', 1520): ['ResponseClean'], (107, '2015-07-27', '12:44:03', 1600): ['ResponseClean'], (107, '2015-07-27', '16:29:00', 2767): ['ResponseClean'], (107, '2015-07-27', '20:14:00', 2767): ['ResponseClean'], (107, '2015-07-28', '08:59:18', 4): ['ResponseClean'], (107, '2015-07-28', '08:59:18', 6): ['ResponseClean'], (107, '2015-07-28', '08:59:18', 8): ['ResponseClean'], (107, '2015-07-28', '08:59:18', 10): ['ResponseClean'], (107, '2015-07-28', '08:59:18', 20): ['ResponseClean'], (107, '2015-07-28', '08:59:18', 50): ['ResponseClean'], (107, '2015-07-28', '08:59:18', 60): ['ResponseClean'], (107, '2015-07-28', '08:59:18', 80): ['ResponseClean'], (107, '2015-07-28', '08:59:18', 110): ['ResponseClean'], (107, '2015-07-28', '08:59:18', 120): ['ResponseClean'], (107, '2015-07-28', '08:59:18', 1140): ['ResponseClean'], (107, '2015-07-28', '08:59:18', 1150): ['ResponseClean'], (107, '2015-07-28', '08:59:18', 1160): ['ResponseClean'], (107, '2015-07-28', '08:59:18', 1170): ['ResponseClean'], (107, '2015-07-28', '08:59:18', 1180): ['ResponseClean'], (107, '2015-07-28', '08:59:18', 1210): ['ResponseClean'], (107, '2015-07-28', '08:59:18', 1220): ['ResponseClean'], (107, '2015-07-28', '08:59:18', 1230): ['ResponseClean'], (107, '2015-07-28', '08:59:18', 1310): ['ResponseClean'], (107, '2015-07-28', '08:59:18', 1410): ['ResponseClean'], (107, '2015-07-28', '08:59:18', 1420): ['ResponseClean'], (107, '2015-07-28', '08:59:18', 1430): ['ResponseClean'], (107, '2015-07-28', '08:59:18', 1510): ['ResponseClean'], (107, '2015-07-28', '08:59:18', 1520): ['ResponseClean'], (107, '2015-07-28', '08:59:18', 1600): ['ResponseClean'], (107, '2015-07-28', '12:44:14', 4): ['ResponseClean'], (107, '2015-07-28', '12:44:14', 10): ['ResponseClean'], (107, '2015-07-28', '12:44:14', 20): ['ResponseClean'], (107, '2015-07-28', '12:44:14', 50): ['ResponseClean'], (107, '2015-07-28', '12:44:14', 60): ['ResponseClean'], (107, '2015-07-28', '12:44:14', 80): ['ResponseClean'], (107, '2015-07-28', '12:44:14', 110): ['ResponseClean'], (107, '2015-07-28', '12:44:14', 120): ['ResponseClean'], (107, '2015-07-28', '12:44:14', 140): ['ResponseClean'], (107, '2015-07-28', '12:44:14', 1210): ['ResponseClean'], (107, '2015-07-28', '12:44:14', 1220): ['ResponseClean'], (107, '2015-07-28', '12:44:14', 1230): ['ResponseClean'], (107, '2015-07-28', '12:44:14', 1310): ['ResponseClean'], (107, '2015-07-28', '12:44:14', 1410): ['ResponseClean'], (107, '2015-07-28', '12:44:14', 1420): ['ResponseClean'], (107, '2015-07-28', '12:44:14', 1430): ['ResponseClean'], (107, '2015-07-28', '12:44:14', 1510): ['ResponseClean'], (107, '2015-07-28', '12:44:14', 1520): ['ResponseClean'], (107, '2015-07-28', '12:44:14', 1600): ['ResponseClean'], (107, '2015-07-28', '16:29:00', 2767): ['ResponseClean'], (107, '2015-07-28', '20:14:00', 2767): ['ResponseClean'], (107, '2015-07-29', '08:59:04', 4): ['ResponseClean'], (107, '2015-07-29', '08:59:04', 6): ['ResponseClean'], (107, '2015-07-29', '08:59:04', 8): ['ResponseClean'], (107, '2015-07-29', '08:59:04', 10): ['ResponseClean'], (107, '2015-07-29', '08:59:04', 20): ['ResponseClean'], (107, '2015-07-29', '08:59:04', 50): ['ResponseClean'], (107, '2015-07-29', '08:59:04', 60): ['ResponseClean'], (107, '2015-07-29', '08:59:04', 1080): ['ResponseClean'], (107, '2015-07-29', '08:59:04', 1110): ['ResponseClean'], (107, '2015-07-29', '08:59:04', 1120): ['ResponseClean'], (107, '2015-07-29', '08:59:04', 1140): ['ResponseClean'], (107, '2015-07-29', '08:59:04', 1150): ['ResponseClean'], (107, '2015-07-29', '08:59:04', 1160): ['ResponseClean'], (107, '2015-07-29', '08:59:04', 1170): ['ResponseClean'], (107, '2015-07-29', '08:59:04', 1180): ['ResponseClean'], (107, '2015-07-29', '08:59:04', 1210): ['ResponseClean'], (107, '2015-07-29', '08:59:04', 1220): ['ResponseClean'], (107, '2015-07-29', '08:59:04', 1230): ['ResponseClean'], (107, '2015-07-29', '08:59:04', 1310): ['ResponseClean'], (107, '2015-07-29', '08:59:04', 1410): ['ResponseClean'], (107, '2015-07-29', '08:59:04', 1420): ['ResponseClean'], (107, '2015-07-29', '08:59:04', 1430): ['ResponseClean'], (107, '2015-07-29', '08:59:04', 1510): ['ResponseClean'], (107, '2015-07-29', '08:59:04', 1520): ['ResponseClean'], (107, '2015-07-29', '08:59:04', 1600): ['ResponseClean'], (107, '2015-07-29', '12:44:00', 2767): ['ResponseClean'], (107, '2015-07-29', '16:29:00', 2767): ['ResponseClean']}\n"
     ]
    }
   ],
   "source": [
    "import pandas\n",
    "\n",
    "file_name = 'sample_palm_data.txt'\n",
    "palm_data = pandas.read_fwf(file_name, header=None)\n",
    "# question for later: is there a way to automatically read in all files within a folder, or do you\n",
    "# have to loop through a list of names or manually change the name each time?\n",
    "\n",
    "# print(palm_data)\n",
    "\n",
    "# put loaded data into dataframe\n",
    "df = pandas.read_fwf(file_name, header=None)\n",
    "# adding column names\n",
    "df.columns = [\"Time\", \"PDA ID\", \"Question ID\", \"Time to Respond*\", \"Answer ID\", \"Question Type\", \"Question Set ID\", \"Response\"]\n",
    "# print(df)\n",
    "# print(type(df))\n",
    "# print(df.dtypes)\n",
    "\n",
    "# Isolate columns: Time, PDA ID, Question ID, Time to Respond, Response\n",
    "# Double square brackets: first = action: subset column; second = list of columns to subset\n",
    "df_working = df[['Time', 'PDA ID', 'Question ID', 'Time to Respond*', 'Response']]\n",
    "# print(df_working)\n",
    "\n",
    "# Use df_working.head() to only should first 5 rows instead of loading all the data each time\n",
    "# print(df_working.head())\n",
    "\n",
    "# Now split up column time into 2 sections: YYYYMMDD (reformatted into MM/DD/YYYY) and HHMMSS (into HH:MM:SS)\n",
    "# Change the data type from int --> str\n",
    "df_working['Time'] = df_working['Time'].astype(str)\n",
    "# Now use split\n",
    "df_working['Date_working'] = df_working['Time'].str[0:8]\n",
    "df_working['Timestamp_working'] = df_working['Time'].str[8:14]\n",
    "# print(df_working.head())\n",
    "\n",
    "# Reformat\n",
    "df_working['Date'] = pandas.to_datetime(df_working['Date_working'], format='%Y%m%d')\n",
    "df_working['Timestamp'] = pandas.to_datetime(df_working['Timestamp_working'], format='%H%M%S')\n",
    "# Removing date from timestamp\n",
    "df_working['TimeStamp'] = pandas.Series([val.time() for val in df_working['Timestamp']])\n",
    "# print(df_working.head())\n",
    "\n",
    "# Change Time to Respond from 1/100 to x.xx format (divide by 100)\n",
    "df_working['Time to Respond'] = df_working['Time to Respond*']/100\n",
    "\n",
    "df_working['ResponseClean'] = df_working['Response'].str.replace('\"', '').str.strip()\n",
    "\n",
    "\n",
    "df_working['ResponseClean'] = df_working['ResponseClean'].replace({\"Yes\": 1, \"No\": 0, \"a) more than 8 hours\": 1, \"b) 7-8 hours\": 2, \"c) 5-6 hours\": 3,\n",
    "                            \"d) 3-4 hours\": 4, \"e) 0-2 hours\": 5, \"5 very poor\": 5, \"4 poor\": 4, \"3 fair\": 3,\n",
    "                            \"2 good\": 2, \"1 very good\": 1, \"8 extremely\": 8, \"6 very much\": 6, \"4 much\": 4,\n",
    "                            \"2 somewhat\": 2, \"0 not at all\": 0, \"8 the whole time\": 8, \"6 much\": 6, \"4 some\": 4,\n",
    "                            \"2 a little\": 2, \"6 very\": 6, \"4 somewhat\": 4, \"0 none\": 0, \"1 1-10min\": 1,\n",
    "                            \"2 11-20 min\": 2, \"3 21-30min\": 3, \"4 31-40min\": 4, \"5 41-50min\": 5, \"6 51-60min\": 6,\n",
    "                            \"7 61-70min\": 7, \"8 71-80min\": 8})\n",
    "\n",
    "# Testing to see if this change would work\n",
    "# df_working\n",
    "\n",
    "# Changing the Date and TimeStamp columns into strings to avoid dictionary issues\n",
    "df_working['Date_str'] = df_working['Date'].astype(str)\n",
    "df_working['TimeStamp_str'] = df_working['TimeStamp'].astype(str)\n",
    "\n",
    "# New working dataset\n",
    "df_working2 = df_working[['PDA ID', 'Date_str', 'TimeStamp_str', 'Question ID', 'ResponseClean']]\n",
    "# print(df_working2.head())\n",
    "# print(df_working2.dtypes)\n",
    "\n",
    "PDA_dictionary = {}\n",
    "\n",
    "unique_ID_group = df_working2.groupby(['PDA ID', 'Date_str', 'TimeStamp_str', 'Question ID'])\n",
    "for name, group in unique_ID_group:\n",
    "    if name not in PDA_dictionary:\n",
    "        PDA_dictionary[name] = ['ResponseClean']\n",
    "\n",
    "print(PDA_dictionary)\n",
    "\n"
   ]
  },
  {
   "cell_type": "code",
   "execution_count": 3,
   "metadata": {
    "collapsed": true
   },
   "outputs": [],
   "source": [
    "\n",
    "\n",
    "# writing to an excel file\n",
    "# but how exactly do I do this??\n",
    "# outfile = open(file_name, 'w')\n",
    "# pd.read_excel(file_name'.xlsx', 'Sheet1', index_col=None, na_values=['NA'])\n"
   ]
  },
  {
   "cell_type": "code",
   "execution_count": null,
   "metadata": {
    "collapsed": true
   },
   "outputs": [],
   "source": []
  },
  {
   "cell_type": "code",
   "execution_count": null,
   "metadata": {
    "collapsed": true
   },
   "outputs": [],
   "source": []
  },
  {
   "cell_type": "code",
   "execution_count": null,
   "metadata": {
    "collapsed": true
   },
   "outputs": [],
   "source": []
  },
  {
   "cell_type": "code",
   "execution_count": null,
   "metadata": {
    "collapsed": true
   },
   "outputs": [],
   "source": []
  },
  {
   "cell_type": "code",
   "execution_count": null,
   "metadata": {
    "collapsed": true
   },
   "outputs": [],
   "source": []
  },
  {
   "cell_type": "code",
   "execution_count": null,
   "metadata": {
    "collapsed": true
   },
   "outputs": [],
   "source": []
  }
 ],
 "metadata": {
  "kernelspec": {
   "display_name": "Python 3",
   "language": "python",
   "name": "python3"
  },
  "language_info": {
   "codemirror_mode": {
    "name": "ipython",
    "version": 3
   },
   "file_extension": ".py",
   "mimetype": "text/x-python",
   "name": "python",
   "nbconvert_exporter": "python",
   "pygments_lexer": "ipython3",
   "version": "3.6.1"
  }
 },
 "nbformat": 4,
 "nbformat_minor": 2
}
