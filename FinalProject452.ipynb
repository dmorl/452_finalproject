{
 "cells": [
  {
   "cell_type": "code",
   "execution_count": null,
   "metadata": {},
   "outputs": [],
   "source": [
    "import pandas\n",
    "\n",
    "file_name = 'sample_palm_data.txt'\n",
    "palm_data = pandas.read_fwf(file_name, header=None)\n",
    "# question for later: is there a way to automatically read in all files within a folder, or do you\n",
    "# have to loop through a list of names or manually change the name each time?\n",
    "\n",
    "# print(palm_data)\n",
    "\n",
    "# put loaded data into dataframe\n",
    "df = pandas.read_fwf(file_name, header=None)\n",
    "# adding column names\n",
    "df.columns = [\"Time\", \"PDA ID\", \"Question ID\", \"Time to Respond*\", \"Answer ID\", \"Question Type\", \"Question Set ID\", \"Response\"]\n",
    "# print(df)\n",
    "# print(type(df))\n",
    "# print(df.dtypes)\n",
    "\n",
    "# Isolate columns: Time, PDA ID, Question ID, Time to Respond, Response\n",
    "# Double square brackets: first = action: subset column; second = list of columns to subset\n",
    "df_working = df[['Time', 'PDA ID', 'Question ID', 'Time to Respond*', 'Response']]\n",
    "# print(df_working)\n",
    "\n",
    "# Use df_working.head() to only should first 5 rows instead of loading all the data each time\n",
    "# print(df_working.head())\n",
    "\n",
    "# Now split up column time into 2 sections: YYYYMMDD (reformatted into MM/DD/YYYY) and HHMMSS (into HH:MM:SS)\n",
    "# Change the data type from int --> str\n",
    "df_working['Time'] = df_working['Time'].astype(str)\n",
    "# Now use split\n",
    "df_working['Date_working'] = df_working['Time'].str[0:8]\n",
    "df_working['Timestamp_working'] = df_working['Time'].str[8:14]\n",
    "# print(df_working.head())\n",
    "\n",
    "# Reformat\n",
    "df_working['Date'] = pandas.to_datetime(df_working['Date_working'], format='%Y%m%d')\n",
    "df_working['Timestamp'] = pandas.to_datetime(df_working['Timestamp_working'], format='%H%M%S')\n",
    "# Removing date from timestamp\n",
    "df_working['TimeStamp'] = pandas.Series([val.time() for val in df_working['Timestamp']])\n",
    "# print(df_working.head())\n",
    "\n",
    "# Change Time to Respond from 1/100 to x.xx format (divide by 100)\n",
    "df_working['Time to Respond'] = df_working['Time to Respond*']/100\n",
    "\n",
    "df_working['ResponseClean'] = df_working['Response'].str.replace('\"', '').str.strip()\n",
    "\n",
    "\n",
    "df_working['ResponseClean'] = df_working['ResponseClean'].replace({\"Yes\": 1, \"No\": 0, \"a) more than 8 hours\": 1, \"b) 7-8 hours\": 2, \"c) 5-6 hours\": 3,\n",
    "                            \"d) 3-4 hours\": 4, \"e) 0-2 hours\": 5, \"5 very poor\": 5, \"4 poor\": 4, \"3 fair\": 3,\n",
    "                            \"2 good\": 2, \"1 very good\": 1, \"8 extremely\": 8, \"6 very much\": 6, \"4 much\": 4,\n",
    "                            \"2 somewhat\": 2, \"0 not at all\": 0, \"8 the whole time\": 8, \"6 much\": 6, \"4 some\": 4,\n",
    "                            \"2 a little\": 2, \"6 very\": 6, \"4 somewhat\": 4, \"0 none\": 0, \"1 1-10min\": 1,\n",
    "                            \"2 11-20 min\": 2, \"3 21-30min\": 3, \"4 31-40min\": 4, \"5 41-50min\": 5, \"6 51-60min\": 6,\n",
    "                            \"7 61-70min\": 7, \"8 71-80min\": 8})\n",
    "\n",
    "# Testing to see if this change would work\n",
    "# df_working\n",
    "\n",
    "# Changing the Date and TimeStamp columns into strings to avoid dictionary issues\n",
    "df_working['Date_str'] = df_working['Date'].astype(str)\n",
    "df_working['TimeStamp_str'] = df_working['TimeStamp'].astype(str)\n",
    "\n",
    "# New working dataset\n",
    "df_working2 = df_working[['PDA ID', 'Date_str', 'TimeStamp_str', 'Question ID', 'ResponseClean']]\n",
    "# print(df_working2.head())\n",
    "# print(df_working2.dtypes)\n",
    "\n",
    "PDA_dictionary = {}\n",
    "\n",
    "# creates a dictionary, but all variables in one dictionary layer instead of separate\n",
    "# also, cannot get ResponseClean to appear as the key\n",
    "# unique_ID_group = df_working2.groupby(['PDA ID', 'Date_str', 'TimeStamp_str', 'Question ID'])\n",
    "# for name, group in unique_ID_group:\n",
    "#     if name not in PDA_dictionary:\n",
    "#         PDA_dictionary[name] = ['ResponseClean']\n",
    "\n",
    "for ID in df_working2['PDA ID']:\n",
    "    if ID not in PDA_dictionary:\n",
    "        PDA_dictionary[ID] = []\n",
    "    for date in df_working2['Date_str']:\n",
    "        if date not in PDA_dictionary:\n",
    "            PDA_dictionary[date] = []\n",
    "        for time in df_working2['TimeStamp_str']:\n",
    "            if time not in PDA_dictionary:\n",
    "                PDA_dictionary[time] = []\n",
    "#             for qID in df_working2['Question ID']:\n",
    "#                 if qID not in PDA_dictionary:\n",
    "#                     PDA_dictionary[qID] = df_working2['ResponseClean']\n",
    "\n",
    "print(PDA_dictionary)\n",
    "\n"
   ]
  },
  {
   "cell_type": "code",
   "execution_count": 3,
   "metadata": {
    "collapsed": true
   },
   "outputs": [],
   "source": [
    "\n",
    "\n",
    "# writing to an excel file\n",
    "# but how exactly do I do this??\n",
    "# outfile = open(file_name, 'w')\n",
    "# pd.read_excel(file_name'.xlsx', 'Sheet1', index_col=None, na_values=['NA'])\n"
   ]
  },
  {
   "cell_type": "code",
   "execution_count": null,
   "metadata": {
    "collapsed": true
   },
   "outputs": [],
   "source": []
  },
  {
   "cell_type": "code",
   "execution_count": null,
   "metadata": {
    "collapsed": true
   },
   "outputs": [],
   "source": []
  },
  {
   "cell_type": "code",
   "execution_count": null,
   "metadata": {
    "collapsed": true
   },
   "outputs": [],
   "source": []
  },
  {
   "cell_type": "code",
   "execution_count": null,
   "metadata": {
    "collapsed": true
   },
   "outputs": [],
   "source": []
  },
  {
   "cell_type": "code",
   "execution_count": null,
   "metadata": {
    "collapsed": true
   },
   "outputs": [],
   "source": []
  },
  {
   "cell_type": "code",
   "execution_count": null,
   "metadata": {
    "collapsed": true
   },
   "outputs": [],
   "source": []
  }
 ],
 "metadata": {
  "kernelspec": {
   "display_name": "Python 3",
   "language": "python",
   "name": "python3"
  },
  "language_info": {
   "codemirror_mode": {
    "name": "ipython",
    "version": 3
   },
   "file_extension": ".py",
   "mimetype": "text/x-python",
   "name": "python",
   "nbconvert_exporter": "python",
   "pygments_lexer": "ipython3",
   "version": "3.6.1"
  }
 },
 "nbformat": 4,
 "nbformat_minor": 2
}
